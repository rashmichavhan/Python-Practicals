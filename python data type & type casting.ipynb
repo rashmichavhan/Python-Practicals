{
 "cells": [
  {
   "cell_type": "markdown",
   "id": "8d88e5d2-3892-4f9f-876d-8d7523e999ee",
   "metadata": {},
   "source": [
    "# python 1st code \n",
    "- lets work with number"
   ]
  },
  {
   "cell_type": "markdown",
   "id": "766ca86d-0a14-4c56-ad36-1266c54be2bb",
   "metadata": {},
   "source": [
    "## Python is widely used for data analysis due to its simplicity and the extensive ecosystem of libraries designed for data manipulation, analysis, and visualization. Here are some key components:\n",
    "\n",
    "- Libraries:\n",
    "\n",
    "1. Pandas: Provides data structures like DataFrames, making it easy to manipulate and analyze structured data.\n",
    "2. NumPy: Offers support for large, multi-dimensional arrays and matrices, along with a collection of mathematical functions to operate on these arrays.\n",
    "3. Matplotlib: A plotting library used for creating static, animated, and interactive visualizations in Python.\n",
    "4. Seaborn: Built on Matplotlib, it simplifies complex visualizations and enhances aesthetics.\n",
    "5. SciPy: A library for scientific and technical computing that builds on NumPy, providing additional functionality for optimization, integration, and statistics.\n",
    "6. Scikit-learn: A machine learning library that provides simple and efficient tools for data mining and data analysis.\n",
    "\n",
    "7. Data Cleaning and Preparation: Python's libraries, especially Pandas, provide powerful tools for cleaning and transforming data, handling missing values, and merging datasets.\n",
    "\n",
    "8. Exploratory Data Analysis (EDA): Python allows analysts to perform EDA using statistical techniques and visualizations, helping to uncover patterns, trends, and anomalies.\n",
    "\n",
    "9. Statistical Analysis: Python supports various statistical tests and methods, making it suitable for hypothesis testing and inferential statistics.\n",
    "\n",
    "10. Machine Learning and Predictive Analytics: With libraries like Scikit-learn and TensorFlow, Python enables the development of predictive models and machine learning algorithms.\n",
    "\n",
    "Overall, Python's versatility and the breadth of its libraries make it a powerful tool for data analysis across various domains."
   ]
  },
  {
   "cell_type": "code",
   "execution_count": 46,
   "id": "6c872be2-1468-4a3f-a02f-608b7c5d7218",
   "metadata": {},
   "outputs": [
    {
     "data": {
      "text/plain": [
       "15"
      ]
     },
     "execution_count": 46,
     "metadata": {},
     "output_type": "execute_result"
    }
   ],
   "source": [
    "10 + 5"
   ]
  },
  {
   "cell_type": "code",
   "execution_count": 47,
   "id": "c90f2af3-f5bf-434c-b189-28a9a1a939b0",
   "metadata": {},
   "outputs": [
    {
     "data": {
      "text/plain": [
       "5"
      ]
     },
     "execution_count": 47,
     "metadata": {},
     "output_type": "execute_result"
    }
   ],
   "source": [
    "10 - 5"
   ]
  },
  {
   "cell_type": "code",
   "execution_count": 48,
   "id": "5accaebf-9e6d-4dd1-a852-9e215f8c33be",
   "metadata": {},
   "outputs": [
    {
     "data": {
      "text/plain": [
       "50"
      ]
     },
     "execution_count": 48,
     "metadata": {},
     "output_type": "execute_result"
    }
   ],
   "source": [
    "10 * 5"
   ]
  },
  {
   "cell_type": "code",
   "execution_count": 49,
   "id": "228c75d7-9698-4885-b236-117c087f0e99",
   "metadata": {},
   "outputs": [
    {
     "data": {
      "text/plain": [
       "2.0"
      ]
     },
     "execution_count": 49,
     "metadata": {},
     "output_type": "execute_result"
    }
   ],
   "source": [
    "10 / 5"
   ]
  },
  {
   "cell_type": "code",
   "execution_count": 50,
   "id": "d6f95f63-511f-482e-9de6-2f0ec040c2d9",
   "metadata": {},
   "outputs": [
    {
     "data": {
      "text/plain": [
       "2"
      ]
     },
     "execution_count": 50,
     "metadata": {},
     "output_type": "execute_result"
    }
   ],
   "source": [
    "10 // 5"
   ]
  },
  {
   "cell_type": "code",
   "execution_count": 51,
   "id": "b3b53eed-879f-4792-8593-835914c6796c",
   "metadata": {},
   "outputs": [
    {
     "data": {
      "text/plain": [
       "14"
      ]
     },
     "execution_count": 51,
     "metadata": {},
     "output_type": "execute_result"
    }
   ],
   "source": [
    "(10+5)-7+6"
   ]
  },
  {
   "cell_type": "code",
   "execution_count": 52,
   "id": "e918d806-3259-4a74-84e7-b6ef6a354ce1",
   "metadata": {},
   "outputs": [
    {
     "data": {
      "text/plain": [
       "30"
      ]
     },
     "execution_count": 52,
     "metadata": {},
     "output_type": "execute_result"
    }
   ],
   "source": [
    "5+(5*5)"
   ]
  },
  {
   "cell_type": "code",
   "execution_count": 53,
   "id": "ee5b89dd-2849-4b0f-87dd-c480105594b3",
   "metadata": {},
   "outputs": [
    {
     "data": {
      "text/plain": [
       "50"
      ]
     },
     "execution_count": 53,
     "metadata": {},
     "output_type": "execute_result"
    }
   ],
   "source": [
    "(5+5)*5"
   ]
  },
  {
   "cell_type": "code",
   "execution_count": 54,
   "id": "69d43e40-d5f9-4d98-b472-62fbadb729ae",
   "metadata": {},
   "outputs": [
    {
     "data": {
      "text/plain": [
       "53"
      ]
     },
     "execution_count": 54,
     "metadata": {},
     "output_type": "execute_result"
    }
   ],
   "source": [
    "_ + 3"
   ]
  },
  {
   "cell_type": "code",
   "execution_count": 55,
   "id": "46603fba-b51e-49fe-ad49-8799ee28a520",
   "metadata": {},
   "outputs": [
    {
     "data": {
      "text/plain": [
       "56"
      ]
     },
     "execution_count": 55,
     "metadata": {},
     "output_type": "execute_result"
    }
   ],
   "source": [
    "_ + 3"
   ]
  },
  {
   "cell_type": "code",
   "execution_count": 58,
   "id": "4a9303b5-cca3-48dd-9d50-ec686712dea4",
   "metadata": {},
   "outputs": [
    {
     "data": {
      "text/plain": [
       "'3.11.7 | packaged by Anaconda, Inc. | (main, Dec 15 2023, 18:05:47) [MSC v.1916 64 bit (AMD64)]'"
      ]
     },
     "execution_count": 58,
     "metadata": {},
     "output_type": "execute_result"
    }
   ],
   "source": [
    "import sys\n",
    "sys.version"
   ]
  },
  {
   "cell_type": "code",
   "execution_count": 59,
   "id": "2fc42176-08cf-4284-b306-87fb36ab5744",
   "metadata": {},
   "outputs": [
    {
     "data": {
      "text/plain": [
       "4"
      ]
     },
     "execution_count": 59,
     "metadata": {},
     "output_type": "execute_result"
    }
   ],
   "source": [
    "1 + 1\n",
    "2 + 1\n",
    "3 + 1"
   ]
  },
  {
   "cell_type": "code",
   "execution_count": 60,
   "id": "8a4ca9b9-0802-46dd-be8f-7255cd6b2903",
   "metadata": {},
   "outputs": [
    {
     "name": "stdout",
     "output_type": "stream",
     "text": [
      "2\n",
      "3\n",
      "4\n"
     ]
    }
   ],
   "source": [
    "print(1 + 1)\n",
    "print(2 + 1)\n",
    "print(3 + 1)"
   ]
  },
  {
   "cell_type": "code",
   "execution_count": 61,
   "id": "847b7dd2-28dd-4719-987a-0a10245cbef6",
   "metadata": {},
   "outputs": [
    {
     "name": "stdout",
     "output_type": "stream",
     "text": [
      "30\n"
     ]
    }
   ],
   "source": [
    "a = 10\n",
    "b = 20\n",
    "\n",
    "c = a+b\n",
    "print(c)"
   ]
  },
  {
   "cell_type": "code",
   "execution_count": 62,
   "id": "3202f28b-df1b-40b8-bdad-a627c05d5d41",
   "metadata": {},
   "outputs": [
    {
     "name": "stdout",
     "output_type": "stream",
     "text": [
      "10\n",
      "20\n",
      "30\n"
     ]
    }
   ],
   "source": [
    "print(a)\n",
    "print(b)\n",
    "print(c)"
   ]
  },
  {
   "cell_type": "code",
   "execution_count": 63,
   "id": "b2ffe2c4-8b3a-4fa3-8d8d-d6f1ec1815ba",
   "metadata": {},
   "outputs": [
    {
     "ename": "SyntaxError",
     "evalue": "cannot assign to literal here. Maybe you meant '==' instead of '='? (2120639536.py, line 1)",
     "output_type": "error",
     "traceback": [
      "\u001b[1;36m  Cell \u001b[1;32mIn[63], line 1\u001b[1;36m\u001b[0m\n\u001b[1;33m    100 = d\u001b[0m\n\u001b[1;37m    ^\u001b[0m\n\u001b[1;31mSyntaxError\u001b[0m\u001b[1;31m:\u001b[0m cannot assign to literal here. Maybe you meant '==' instead of '='?\n"
     ]
    }
   ],
   "source": [
    "100 = d"
   ]
  },
  {
   "cell_type": "code",
   "execution_count": 64,
   "id": "f1f8d7ad-bdb7-47dc-a36c-e77f22fcccab",
   "metadata": {},
   "outputs": [
    {
     "name": "stdout",
     "output_type": "stream",
     "text": [
      "50\n"
     ]
    }
   ],
   "source": [
    "num1=20\n",
    "num2=30\n",
    "\n",
    "add=num1+num2\n",
    "\n",
    "print(add)\n",
    "#print('The addition of',num1,'and',num2,'is=',add)"
   ]
  },
  {
   "cell_type": "code",
   "execution_count": 65,
   "id": "b6f63de9-c6cf-4e67-b2a2-e78a4418d204",
   "metadata": {},
   "outputs": [
    {
     "name": "stdout",
     "output_type": "stream",
     "text": [
      "The addition of-- 20 and 30 is== 50\n"
     ]
    }
   ],
   "source": [
    "num1=20\n",
    "num2=30\n",
    "\n",
    "add=num1+num2\n",
    "print('The addition of--',num1,'and',num2,'is==',add)"
   ]
  },
  {
   "cell_type": "code",
   "execution_count": 117,
   "id": "131c0d29-6fa4-42af-a0b0-0008da6f03e0",
   "metadata": {},
   "outputs": [
    {
     "data": {
      "text/plain": [
       "['False',\n",
       " 'None',\n",
       " 'True',\n",
       " 'and',\n",
       " 'as',\n",
       " 'assert',\n",
       " 'async',\n",
       " 'await',\n",
       " 'break',\n",
       " 'class',\n",
       " 'continue',\n",
       " 'def',\n",
       " 'del',\n",
       " 'elif',\n",
       " 'else',\n",
       " 'except',\n",
       " 'finally',\n",
       " 'for',\n",
       " 'from',\n",
       " 'global',\n",
       " 'if',\n",
       " 'import',\n",
       " 'in',\n",
       " 'is',\n",
       " 'lambda',\n",
       " 'nonlocal',\n",
       " 'not',\n",
       " 'or',\n",
       " 'pass',\n",
       " 'raise',\n",
       " 'return',\n",
       " 'try',\n",
       " 'while',\n",
       " 'with',\n",
       " 'yield']"
      ]
     },
     "execution_count": 117,
     "metadata": {},
     "output_type": "execute_result"
    }
   ],
   "source": [
    "import keyword\n",
    "keyword.kwlist"
   ]
  },
  {
   "cell_type": "code",
   "execution_count": 118,
   "id": "b5fa1eee-8971-4362-867c-9259b737362e",
   "metadata": {},
   "outputs": [
    {
     "data": {
      "text/plain": [
       "35"
      ]
     },
     "execution_count": 118,
     "metadata": {},
     "output_type": "execute_result"
    }
   ],
   "source": [
    "len(keyword.kwlist)"
   ]
  },
  {
   "cell_type": "code",
   "execution_count": 120,
   "id": "809da4e0-5a5d-4965-8986-69ee83b920e4",
   "metadata": {},
   "outputs": [
    {
     "ename": "SyntaxError",
     "evalue": "invalid syntax (1550377854.py, line 1)",
     "output_type": "error",
     "traceback": [
      "\u001b[1;36m  Cell \u001b[1;32mIn[120], line 1\u001b[1;36m\u001b[0m\n\u001b[1;33m    for = 45\u001b[0m\n\u001b[1;37m        ^\u001b[0m\n\u001b[1;31mSyntaxError\u001b[0m\u001b[1;31m:\u001b[0m invalid syntax\n"
     ]
    }
   ],
   "source": [
    "for = 45\n",
    "for"
   ]
  },
  {
   "cell_type": "markdown",
   "id": "a6a587e5-e9b9-4f42-b716-38b523415534",
   "metadata": {},
   "source": [
    "# 22nd OCT"
   ]
  },
  {
   "cell_type": "markdown",
   "id": "7d90b7ee-981f-48d3-b837-8f40ef3cfb02",
   "metadata": {},
   "source": [
    "# python variable concept  = python identifier concept \n",
    "\n",
    "- syntax of define variable || ( variabale name = value ) || ( identifer = value )"
   ]
  },
  {
   "cell_type": "code",
   "execution_count": 66,
   "id": "afb3749b-6eb8-476e-aa9e-435f7763511a",
   "metadata": {},
   "outputs": [
    {
     "data": {
      "text/plain": [
       "15"
      ]
     },
     "execution_count": 66,
     "metadata": {},
     "output_type": "execute_result"
    }
   ],
   "source": [
    "NIT = 15\n",
    "NIT"
   ]
  },
  {
   "cell_type": "code",
   "execution_count": 12,
   "id": "777406c3-130d-4c91-b0f9-29e8a34e0367",
   "metadata": {},
   "outputs": [
    {
     "data": {
      "text/plain": [
       "20"
      ]
     },
     "execution_count": 12,
     "metadata": {},
     "output_type": "execute_result"
    }
   ],
   "source": [
    "NIT = 20\n",
    "NIT "
   ]
  },
  {
   "cell_type": "code",
   "execution_count": 67,
   "id": "aaaf6c04-aad6-4ee0-ab70-ec72b2ed742a",
   "metadata": {},
   "outputs": [
    {
     "data": {
      "text/plain": [
       "15"
      ]
     },
     "execution_count": 67,
     "metadata": {},
     "output_type": "execute_result"
    }
   ],
   "source": [
    "v = 15\n",
    "v"
   ]
  },
  {
   "cell_type": "code",
   "execution_count": 14,
   "id": "926ecbfb-1963-4c2c-a635-fff520158654",
   "metadata": {},
   "outputs": [
    {
     "name": "stdout",
     "output_type": "stream",
     "text": [
      "15\n",
      "20\n"
     ]
    }
   ],
   "source": [
    "print(v)\n",
    "print(NIT)"
   ]
  },
  {
   "cell_type": "code",
   "execution_count": 68,
   "id": "d14d2f42-db5a-4cc2-8d45-f57ca2b88cc4",
   "metadata": {},
   "outputs": [
    {
     "data": {
      "text/plain": [
       "15"
      ]
     },
     "execution_count": 68,
     "metadata": {},
     "output_type": "execute_result"
    }
   ],
   "source": [
    "NIT "
   ]
  },
  {
   "cell_type": "code",
   "execution_count": 69,
   "id": "a1fe2760-d215-4685-a7d2-8e1599d21d3f",
   "metadata": {},
   "outputs": [
    {
     "ename": "NameError",
     "evalue": "name 'Nit' is not defined",
     "output_type": "error",
     "traceback": [
      "\u001b[1;31m---------------------------------------------------------------------------\u001b[0m",
      "\u001b[1;31mNameError\u001b[0m                                 Traceback (most recent call last)",
      "Cell \u001b[1;32mIn[69], line 1\u001b[0m\n\u001b[1;32m----> 1\u001b[0m Nit\n",
      "\u001b[1;31mNameError\u001b[0m: name 'Nit' is not defined"
     ]
    }
   ],
   "source": [
    "Nit"
   ]
  },
  {
   "cell_type": "code",
   "execution_count": 70,
   "id": "f33d2b8c-bc44-4b6f-b452-138e7d60bc7b",
   "metadata": {},
   "outputs": [
    {
     "data": {
      "text/plain": [
       "15"
      ]
     },
     "execution_count": 70,
     "metadata": {},
     "output_type": "execute_result"
    }
   ],
   "source": [
    "v "
   ]
  },
  {
   "cell_type": "code",
   "execution_count": 71,
   "id": "4878f02b-d418-45b3-ae53-0f2d783f13e8",
   "metadata": {},
   "outputs": [
    {
     "ename": "NameError",
     "evalue": "name 'V' is not defined",
     "output_type": "error",
     "traceback": [
      "\u001b[1;31m---------------------------------------------------------------------------\u001b[0m",
      "\u001b[1;31mNameError\u001b[0m                                 Traceback (most recent call last)",
      "Cell \u001b[1;32mIn[71], line 1\u001b[0m\n\u001b[1;32m----> 1\u001b[0m V\n",
      "\u001b[1;31mNameError\u001b[0m: name 'V' is not defined"
     ]
    }
   ],
   "source": [
    "V"
   ]
  },
  {
   "cell_type": "code",
   "execution_count": 19,
   "id": "6a3cc815-980c-47e1-bb23-564daf737109",
   "metadata": {},
   "outputs": [
    {
     "ename": "SyntaxError",
     "evalue": "invalid decimal literal (3644059140.py, line 1)",
     "output_type": "error",
     "traceback": [
      "\u001b[1;36m  Cell \u001b[1;32mIn[19], line 1\u001b[1;36m\u001b[0m\n\u001b[1;33m    1var = 20\u001b[0m\n\u001b[1;37m    ^\u001b[0m\n\u001b[1;31mSyntaxError\u001b[0m\u001b[1;31m:\u001b[0m invalid decimal literal\n"
     ]
    }
   ],
   "source": [
    "1var = 20\n",
    "1var"
   ]
  },
  {
   "cell_type": "code",
   "execution_count": 20,
   "id": "9c9d55f8-53f2-4129-b39e-59cab2b3ac09",
   "metadata": {},
   "outputs": [
    {
     "data": {
      "text/plain": [
       "20"
      ]
     },
     "execution_count": 20,
     "metadata": {},
     "output_type": "execute_result"
    }
   ],
   "source": [
    "var1 = 20\n",
    "var1"
   ]
  },
  {
   "cell_type": "code",
   "execution_count": 21,
   "id": "f80c29eb-1da2-4d4c-a0b7-9813f484f63b",
   "metadata": {},
   "outputs": [
    {
     "ename": "SyntaxError",
     "evalue": "invalid syntax (2863903878.py, line 1)",
     "output_type": "error",
     "traceback": [
      "\u001b[1;36m  Cell \u001b[1;32mIn[21], line 1\u001b[1;36m\u001b[0m\n\u001b[1;33m    var$ = 56\u001b[0m\n\u001b[1;37m       ^\u001b[0m\n\u001b[1;31mSyntaxError\u001b[0m\u001b[1;31m:\u001b[0m invalid syntax\n"
     ]
    }
   ],
   "source": [
    "var$ = 56\n",
    "var$"
   ]
  },
  {
   "cell_type": "code",
   "execution_count": 22,
   "id": "3dc2be73-38c0-423e-8648-a1a8704b6c31",
   "metadata": {},
   "outputs": [
    {
     "ename": "SyntaxError",
     "evalue": "invalid syntax (1575385999.py, line 1)",
     "output_type": "error",
     "traceback": [
      "\u001b[1;36m  Cell \u001b[1;32mIn[22], line 1\u001b[1;36m\u001b[0m\n\u001b[1;33m    var* = 45\u001b[0m\n\u001b[1;37m         ^\u001b[0m\n\u001b[1;31mSyntaxError\u001b[0m\u001b[1;31m:\u001b[0m invalid syntax\n"
     ]
    }
   ],
   "source": [
    "var* = 45\n",
    "var*"
   ]
  },
  {
   "cell_type": "code",
   "execution_count": 23,
   "id": "49fd0ce1-6100-47bd-9d5a-40ab81911489",
   "metadata": {},
   "outputs": [
    {
     "data": {
      "text/plain": [
       "67"
      ]
     },
     "execution_count": 23,
     "metadata": {},
     "output_type": "execute_result"
    }
   ],
   "source": [
    "var_ = 67\n",
    "var_"
   ]
  },
  {
   "cell_type": "code",
   "execution_count": 25,
   "id": "054acadb-ed02-42ef-bf43-fb529a3fd220",
   "metadata": {},
   "outputs": [
    {
     "ename": "ValueError",
     "evalue": "too many values to unpack (expected 2)",
     "output_type": "error",
     "traceback": [
      "\u001b[1;31m---------------------------------------------------------------------------\u001b[0m",
      "\u001b[1;31mValueError\u001b[0m                                Traceback (most recent call last)",
      "Cell \u001b[1;32mIn[25], line 1\u001b[0m\n\u001b[1;32m----> 1\u001b[0m x_train, x_test \u001b[38;5;241m=\u001b[39m \u001b[38;5;241m80\u001b[39m, \u001b[38;5;241m20\u001b[39m, \u001b[38;5;241m50\u001b[39m\n\u001b[0;32m      2\u001b[0m x_train\n",
      "\u001b[1;31mValueError\u001b[0m: too many values to unpack (expected 2)"
     ]
    }
   ],
   "source": [
    "x_train, x_test = 80, 20, 50\n",
    "x_train"
   ]
  },
  {
   "cell_type": "code",
   "execution_count": 24,
   "id": "0a9f92d9-944b-4544-af0b-32016e304038",
   "metadata": {},
   "outputs": [
    {
     "name": "stdout",
     "output_type": "stream",
     "text": [
      "80\n",
      "20\n"
     ]
    }
   ],
   "source": [
    "x_train, x_test = 80, 20\n",
    "\n",
    "print(x_train)\n",
    "print(x_test)"
   ]
  },
  {
   "cell_type": "code",
   "execution_count": 26,
   "id": "3c7098c0-6af8-41d2-8cf1-fb7b20172e0f",
   "metadata": {},
   "outputs": [],
   "source": [
    "a = 10\n",
    "b = 20 \n",
    "c = 30\n",
    "d = 40"
   ]
  },
  {
   "cell_type": "code",
   "execution_count": 27,
   "id": "1e9d33eb-a94f-494b-9ffa-a6f7e18d3e4d",
   "metadata": {},
   "outputs": [
    {
     "name": "stdout",
     "output_type": "stream",
     "text": [
      "10\n",
      "20\n",
      "30\n",
      "40\n"
     ]
    }
   ],
   "source": [
    "a, b, c, d = 10, 20, 30, 40\n",
    "\n",
    "print(a)\n",
    "print(b)\n",
    "print(c)\n",
    "print(d)"
   ]
  },
  {
   "cell_type": "code",
   "execution_count": 32,
   "id": "3317350a-17a7-4810-a362-1667a9abec15",
   "metadata": {},
   "outputs": [
    {
     "name": "stdout",
     "output_type": "stream",
     "text": [
      "78\n"
     ]
    }
   ],
   "source": [
    "aaaaaaaaaaaaaaaaaaaaaaaaaaaaaaaaaaaaaaaaaaaaaaaaaaaaaaaaaaaaaaaaaaaaaa = 78\n",
    "print(aaaaaaaaaaaaaaaaaaaaaaaaaaaaaaaaaaaaaaaaaaaaaaaaaaaaaaaaaaaaaaaaaaaaaa)"
   ]
  },
  {
   "cell_type": "code",
   "execution_count": 33,
   "id": "09fce8e6-0764-4556-aff0-e4225ef7df80",
   "metadata": {},
   "outputs": [
    {
     "ename": "NameError",
     "evalue": "name 'abc' is not defined",
     "output_type": "error",
     "traceback": [
      "\u001b[1;31m---------------------------------------------------------------------------\u001b[0m",
      "\u001b[1;31mNameError\u001b[0m                                 Traceback (most recent call last)",
      "Cell \u001b[1;32mIn[33], line 2\u001b[0m\n\u001b[0;32m      1\u001b[0m ABC \u001b[38;5;241m=\u001b[39m \u001b[38;5;241m100\u001b[39m\n\u001b[1;32m----> 2\u001b[0m abc\n",
      "\u001b[1;31mNameError\u001b[0m: name 'abc' is not defined"
     ]
    }
   ],
   "source": [
    "ABC = 100 # case sensitive \n",
    "abc"
   ]
  },
  {
   "cell_type": "code",
   "execution_count": 34,
   "id": "76f2dd51-af17-4938-8067-f268ded3facb",
   "metadata": {},
   "outputs": [
    {
     "ename": "SyntaxError",
     "evalue": "invalid syntax (2441153534.py, line 1)",
     "output_type": "error",
     "traceback": [
      "\u001b[1;36m  Cell \u001b[1;32mIn[34], line 1\u001b[1;36m\u001b[0m\n\u001b[1;33m    nit@ = 6\u001b[0m\n\u001b[1;37m         ^\u001b[0m\n\u001b[1;31mSyntaxError\u001b[0m\u001b[1;31m:\u001b[0m invalid syntax\n"
     ]
    }
   ],
   "source": [
    "nit@ = 6 #special character \n",
    "nit@"
   ]
  },
  {
   "cell_type": "code",
   "execution_count": 35,
   "id": "79d3b0e3-ac60-4a00-bff2-b0267d282406",
   "metadata": {},
   "outputs": [
    {
     "data": {
      "text/plain": [
       "50"
      ]
     },
     "execution_count": 35,
     "metadata": {},
     "output_type": "execute_result"
    }
   ],
   "source": [
    "nit_ = 50 #underscore only allowed\n",
    "nit_"
   ]
  },
  {
   "cell_type": "code",
   "execution_count": 36,
   "id": "9ec5d849-db31-44ae-8745-8020e20ba2ab",
   "metadata": {},
   "outputs": [
    {
     "ename": "SyntaxError",
     "evalue": "invalid decimal literal (4062386880.py, line 1)",
     "output_type": "error",
     "traceback": [
      "\u001b[1;36m  Cell \u001b[1;32mIn[36], line 1\u001b[1;36m\u001b[0m\n\u001b[1;33m    1nit = 20\u001b[0m\n\u001b[1;37m    ^\u001b[0m\n\u001b[1;31mSyntaxError\u001b[0m\u001b[1;31m:\u001b[0m invalid decimal literal\n"
     ]
    }
   ],
   "source": [
    "1nit = 20\n",
    "1nit "
   ]
  },
  {
   "cell_type": "markdown",
   "id": "b3297e5e-2bc2-4036-83e4-0a2c6d0a1824",
   "metadata": {},
   "source": [
    "# python identifier we are completed  "
   ]
  },
  {
   "cell_type": "markdown",
   "id": "a0405930-2b92-4c1f-989c-bbad9be879a5",
   "metadata": {},
   "source": [
    "# 23rd oct  (PYTHON DATA TYPES)"
   ]
  },
  {
   "cell_type": "code",
   "execution_count": 38,
   "id": "3c042c5c-e37c-4e47-99ff-082fe269c575",
   "metadata": {},
   "outputs": [],
   "source": [
    "a = 25 \n",
    "\n",
    "# a is variable \n"
   ]
  },
  {
   "cell_type": "markdown",
   "id": "e75d0d8d-d048-42af-a127-8743c3f3e30d",
   "metadata": {},
   "source": [
    "# PYTHON DATA TYPES\n",
    "    - INT - value without decimal \n",
    "    - FLOAT - value with decimal ( petrol price, gold price, salary)\n",
    "    - BOOL - True or False \n",
    "    - STRING - 'nit ' | '' nit ''\n",
    "    - COMPLEX  - (a + bj)   "
   ]
  },
  {
   "cell_type": "code",
   "execution_count": 74,
   "id": "9604ca96-3c56-45a7-856f-a8b08fac7669",
   "metadata": {},
   "outputs": [
    {
     "data": {
      "text/plain": [
       "30"
      ]
     },
     "execution_count": 74,
     "metadata": {},
     "output_type": "execute_result"
    }
   ],
   "source": [
    "i = 30\n",
    "i"
   ]
  },
  {
   "cell_type": "code",
   "execution_count": 75,
   "id": "c0c2e288-c337-4fdd-9305-fb55cdcd34fd",
   "metadata": {},
   "outputs": [
    {
     "data": {
      "text/plain": [
       "int"
      ]
     },
     "execution_count": 75,
     "metadata": {},
     "output_type": "execute_result"
    }
   ],
   "source": [
    "type(i)"
   ]
  },
  {
   "cell_type": "code",
   "execution_count": 41,
   "id": "6e14b3fb-4ba9-4d8f-9716-c838384f93d4",
   "metadata": {},
   "outputs": [
    {
     "name": "stdout",
     "output_type": "stream",
     "text": [
      "<class 'int'>\n"
     ]
    }
   ],
   "source": [
    "print(type(i))"
   ]
  },
  {
   "cell_type": "code",
   "execution_count": 76,
   "id": "269de2f4-38c0-4073-b38d-af5032d2869e",
   "metadata": {},
   "outputs": [
    {
     "data": {
      "text/plain": [
       "30"
      ]
     },
     "execution_count": 76,
     "metadata": {},
     "output_type": "execute_result"
    }
   ],
   "source": [
    "i"
   ]
  },
  {
   "cell_type": "code",
   "execution_count": 77,
   "id": "43344157-efc0-4ac5-be0c-1e3cd7a6e63d",
   "metadata": {},
   "outputs": [],
   "source": [
    "i1, i2 = 20, 30"
   ]
  },
  {
   "cell_type": "code",
   "execution_count": 78,
   "id": "5e0fbbec-b43b-4753-8a4e-fecd9efb3773",
   "metadata": {},
   "outputs": [
    {
     "data": {
      "text/plain": [
       "80"
      ]
     },
     "execution_count": 78,
     "metadata": {},
     "output_type": "execute_result"
    }
   ],
   "source": [
    "i + i1 + i2"
   ]
  },
  {
   "cell_type": "code",
   "execution_count": 79,
   "id": "c9775742-3350-4e98-a24d-26937207f8e3",
   "metadata": {},
   "outputs": [
    {
     "data": {
      "text/plain": [
       "20"
      ]
     },
     "execution_count": 79,
     "metadata": {},
     "output_type": "execute_result"
    }
   ],
   "source": [
    "i - i2 + i1"
   ]
  },
  {
   "cell_type": "code",
   "execution_count": 80,
   "id": "1b1559c6-e10b-4e56-b545-d787e2f8fdad",
   "metadata": {},
   "outputs": [
    {
     "name": "stdout",
     "output_type": "stream",
     "text": [
      "30\n",
      "20\n",
      "30\n"
     ]
    }
   ],
   "source": [
    "print(i)\n",
    "print(i1)\n",
    "print(i2)"
   ]
  },
  {
   "cell_type": "code",
   "execution_count": 81,
   "id": "4adbe623-e19c-42e7-9643-d01a4350f930",
   "metadata": {},
   "outputs": [
    {
     "data": {
      "text/plain": [
       "-20"
      ]
     },
     "execution_count": 81,
     "metadata": {},
     "output_type": "execute_result"
    }
   ],
   "source": [
    "i - (i2 + i1)"
   ]
  },
  {
   "cell_type": "markdown",
   "id": "eeac526d-68f8-40a5-b51a-3b83a1f06f72",
   "metadata": {},
   "source": [
    "# integer data type we are completed"
   ]
  },
  {
   "cell_type": "code",
   "execution_count": 83,
   "id": "641518a7-5a6e-461a-bf9e-fa3e28490173",
   "metadata": {},
   "outputs": [
    {
     "data": {
      "text/plain": [
       "110.23"
      ]
     },
     "execution_count": 83,
     "metadata": {},
     "output_type": "execute_result"
    }
   ],
   "source": [
    "f = 110.23\n",
    "f"
   ]
  },
  {
   "cell_type": "code",
   "execution_count": 84,
   "id": "a5efee4d-dc1c-44a3-9b23-977a40adc69f",
   "metadata": {},
   "outputs": [
    {
     "data": {
      "text/plain": [
       "float"
      ]
     },
     "execution_count": 84,
     "metadata": {},
     "output_type": "execute_result"
    }
   ],
   "source": [
    "type(f)"
   ]
  },
  {
   "cell_type": "code",
   "execution_count": 85,
   "id": "87df1e6f-1b87-4969-af42-f6f6449e5c2a",
   "metadata": {},
   "outputs": [],
   "source": [
    "f1 , f2, f3 = 2.3, 3.4, 5.1"
   ]
  },
  {
   "cell_type": "code",
   "execution_count": 86,
   "id": "030c3d83-5006-4321-a201-803e9d0e1411",
   "metadata": {},
   "outputs": [
    {
     "name": "stdout",
     "output_type": "stream",
     "text": [
      "110.23\n",
      "2.3\n",
      "3.4\n",
      "5.1\n"
     ]
    }
   ],
   "source": [
    "print(f)\n",
    "print(f1)\n",
    "print(f2)\n",
    "print(f3)"
   ]
  },
  {
   "cell_type": "code",
   "execution_count": 87,
   "id": "1922e515-61eb-4487-93fc-f3436dd4fe02",
   "metadata": {},
   "outputs": [
    {
     "ename": "SyntaxError",
     "evalue": "invalid decimal literal (4253518237.py, line 1)",
     "output_type": "error",
     "traceback": [
      "\u001b[1;36m  Cell \u001b[1;32mIn[87], line 1\u001b[1;36m\u001b[0m\n\u001b[1;33m    1f = 1e0\u001b[0m\n\u001b[1;37m    ^\u001b[0m\n\u001b[1;31mSyntaxError\u001b[0m\u001b[1;31m:\u001b[0m invalid decimal literal\n"
     ]
    }
   ],
   "source": [
    "1f = 1e0"
   ]
  },
  {
   "cell_type": "code",
   "execution_count": 88,
   "id": "d103ca18-402f-4103-a7eb-0ad675a4964a",
   "metadata": {},
   "outputs": [
    {
     "data": {
      "text/plain": [
       "1.0"
      ]
     },
     "execution_count": 88,
     "metadata": {},
     "output_type": "execute_result"
    }
   ],
   "source": [
    "f1 = 1e0\n",
    "f1"
   ]
  },
  {
   "cell_type": "code",
   "execution_count": 89,
   "id": "3f73e496-1f33-4ba7-a8b6-3a518aee8a57",
   "metadata": {},
   "outputs": [
    {
     "data": {
      "text/plain": [
       "20.0"
      ]
     },
     "execution_count": 89,
     "metadata": {},
     "output_type": "execute_result"
    }
   ],
   "source": [
    "f2 = 2e1\n",
    "f2"
   ]
  },
  {
   "cell_type": "code",
   "execution_count": 90,
   "id": "f97c35c5-3989-436c-8958-3d6b281d6e36",
   "metadata": {},
   "outputs": [
    {
     "data": {
      "text/plain": [
       "300.0"
      ]
     },
     "execution_count": 90,
     "metadata": {},
     "output_type": "execute_result"
    }
   ],
   "source": [
    "f3 = 3e2\n",
    "f3"
   ]
  },
  {
   "cell_type": "code",
   "execution_count": 91,
   "id": "84cdb4b7-95f5-41d1-9555-74fd3da97b7f",
   "metadata": {},
   "outputs": [
    {
     "data": {
      "text/plain": [
       "3000.0"
      ]
     },
     "execution_count": 91,
     "metadata": {},
     "output_type": "execute_result"
    }
   ],
   "source": [
    "f4 = 3e3\n",
    "f4"
   ]
  },
  {
   "cell_type": "code",
   "execution_count": 92,
   "id": "cafc4758-b378-418b-af35-1abfa3a46cd8",
   "metadata": {},
   "outputs": [
    {
     "data": {
      "text/plain": [
       "240.0"
      ]
     },
     "execution_count": 92,
     "metadata": {},
     "output_type": "execute_result"
    }
   ],
   "source": [
    "f5 = 2.4e2\n",
    "f5"
   ]
  },
  {
   "cell_type": "code",
   "execution_count": 95,
   "id": "1bac0810-aace-4598-9ca3-e04c54cd3972",
   "metadata": {},
   "outputs": [
    {
     "ename": "SyntaxError",
     "evalue": "invalid decimal literal (942130128.py, line 1)",
     "output_type": "error",
     "traceback": [
      "\u001b[1;36m  Cell \u001b[1;32mIn[95], line 1\u001b[1;36m\u001b[0m\n\u001b[1;33m    f6 = 2b3\u001b[0m\n\u001b[1;37m         ^\u001b[0m\n\u001b[1;31mSyntaxError\u001b[0m\u001b[1;31m:\u001b[0m invalid decimal literal\n"
     ]
    }
   ],
   "source": [
    "f6 = 2b3"
   ]
  },
  {
   "cell_type": "markdown",
   "id": "401a4f0c-9580-4e08-b209-d05bd7a0348a",
   "metadata": {},
   "source": [
    "# BOOl or BOOLEAN"
   ]
  },
  {
   "cell_type": "code",
   "execution_count": 98,
   "id": "167cc687-8ebe-4a72-a94a-0af12a14d915",
   "metadata": {},
   "outputs": [
    {
     "ename": "NameError",
     "evalue": "name 'true' is not defined",
     "output_type": "error",
     "traceback": [
      "\u001b[1;31m---------------------------------------------------------------------------\u001b[0m",
      "\u001b[1;31mNameError\u001b[0m                                 Traceback (most recent call last)",
      "Cell \u001b[1;32mIn[98], line 1\u001b[0m\n\u001b[1;32m----> 1\u001b[0m b \u001b[38;5;241m=\u001b[39m true\n\u001b[0;32m      2\u001b[0m b\n",
      "\u001b[1;31mNameError\u001b[0m: name 'true' is not defined"
     ]
    }
   ],
   "source": [
    "b = true\n",
    "b"
   ]
  },
  {
   "cell_type": "code",
   "execution_count": 99,
   "id": "5f05975e-76db-4cb8-baed-618db2cdd686",
   "metadata": {},
   "outputs": [
    {
     "data": {
      "text/plain": [
       "True"
      ]
     },
     "execution_count": 99,
     "metadata": {},
     "output_type": "execute_result"
    }
   ],
   "source": [
    "b = True\n",
    "b"
   ]
  },
  {
   "cell_type": "code",
   "execution_count": 100,
   "id": "ddc13123-d737-4092-82db-1f9f355e8f04",
   "metadata": {},
   "outputs": [
    {
     "ename": "NameError",
     "evalue": "name 'false' is not defined",
     "output_type": "error",
     "traceback": [
      "\u001b[1;31m---------------------------------------------------------------------------\u001b[0m",
      "\u001b[1;31mNameError\u001b[0m                                 Traceback (most recent call last)",
      "Cell \u001b[1;32mIn[100], line 1\u001b[0m\n\u001b[1;32m----> 1\u001b[0m b1 \u001b[38;5;241m=\u001b[39m false \n\u001b[0;32m      2\u001b[0m b1\n",
      "\u001b[1;31mNameError\u001b[0m: name 'false' is not defined"
     ]
    }
   ],
   "source": [
    "b1 = false \n",
    "b1"
   ]
  },
  {
   "cell_type": "code",
   "execution_count": 101,
   "id": "d59278ef-5ecc-4d23-bf2a-4bc49cd47dcf",
   "metadata": {},
   "outputs": [
    {
     "data": {
      "text/plain": [
       "False"
      ]
     },
     "execution_count": 101,
     "metadata": {},
     "output_type": "execute_result"
    }
   ],
   "source": [
    "b1 = False \n",
    "b1"
   ]
  },
  {
   "cell_type": "code",
   "execution_count": 102,
   "id": "18ed4907-3792-4fa9-8bb0-e7a88e21d260",
   "metadata": {},
   "outputs": [
    {
     "name": "stdout",
     "output_type": "stream",
     "text": [
      "True\n",
      "False\n"
     ]
    }
   ],
   "source": [
    "print(b)\n",
    "print(b1)"
   ]
  },
  {
   "cell_type": "code",
   "execution_count": 103,
   "id": "2db20283-56f7-40c1-bc5b-8fec5dffb72d",
   "metadata": {},
   "outputs": [
    {
     "data": {
      "text/plain": [
       "1"
      ]
     },
     "execution_count": 103,
     "metadata": {},
     "output_type": "execute_result"
    }
   ],
   "source": [
    "True + False"
   ]
  },
  {
   "cell_type": "code",
   "execution_count": 104,
   "id": "11925a15-cb86-4a03-99e4-83a24c6ffcf8",
   "metadata": {},
   "outputs": [
    {
     "data": {
      "text/plain": [
       "1"
      ]
     },
     "execution_count": 104,
     "metadata": {},
     "output_type": "execute_result"
    }
   ],
   "source": [
    "True - False"
   ]
  },
  {
   "cell_type": "code",
   "execution_count": 105,
   "id": "0869a1f8-0f3f-4005-ac51-9a866bb1c4a7",
   "metadata": {},
   "outputs": [
    {
     "data": {
      "text/plain": [
       "-1"
      ]
     },
     "execution_count": 105,
     "metadata": {},
     "output_type": "execute_result"
    }
   ],
   "source": [
    "False - True "
   ]
  },
  {
   "cell_type": "code",
   "execution_count": 106,
   "id": "1b6c0c40-4ec7-4850-8b95-139f65d6cf88",
   "metadata": {},
   "outputs": [
    {
     "data": {
      "text/plain": [
       "2"
      ]
     },
     "execution_count": 106,
     "metadata": {},
     "output_type": "execute_result"
    }
   ],
   "source": [
    "True + True + True + False - True"
   ]
  },
  {
   "cell_type": "code",
   "execution_count": 107,
   "id": "b86beffe-0e27-4bca-83c8-722df65228d7",
   "metadata": {},
   "outputs": [
    {
     "data": {
      "text/plain": [
       "0"
      ]
     },
     "execution_count": 107,
     "metadata": {},
     "output_type": "execute_result"
    }
   ],
   "source": [
    "False * True "
   ]
  },
  {
   "cell_type": "code",
   "execution_count": 108,
   "id": "e77de4b3-dd9f-487c-9d92-4600a71879a0",
   "metadata": {},
   "outputs": [
    {
     "data": {
      "text/plain": [
       "1"
      ]
     },
     "execution_count": 108,
     "metadata": {},
     "output_type": "execute_result"
    }
   ],
   "source": [
    "True * True"
   ]
  },
  {
   "cell_type": "code",
   "execution_count": 109,
   "id": "6b553b95-d6c8-4318-972c-1e8398726db0",
   "metadata": {},
   "outputs": [
    {
     "data": {
      "text/plain": [
       "0.0"
      ]
     },
     "execution_count": 109,
     "metadata": {},
     "output_type": "execute_result"
    }
   ],
   "source": [
    "False / True "
   ]
  },
  {
   "cell_type": "code",
   "execution_count": 110,
   "id": "0d09b53c-d325-4a0c-afb3-14234d40ef45",
   "metadata": {},
   "outputs": [
    {
     "ename": "ZeroDivisionError",
     "evalue": "division by zero",
     "output_type": "error",
     "traceback": [
      "\u001b[1;31m---------------------------------------------------------------------------\u001b[0m",
      "\u001b[1;31mZeroDivisionError\u001b[0m                         Traceback (most recent call last)",
      "Cell \u001b[1;32mIn[110], line 1\u001b[0m\n\u001b[1;32m----> 1\u001b[0m \u001b[38;5;28;01mTrue\u001b[39;00m \u001b[38;5;241m/\u001b[39m \u001b[38;5;28;01mFalse\u001b[39;00m\n",
      "\u001b[1;31mZeroDivisionError\u001b[0m: division by zero"
     ]
    }
   ],
   "source": [
    "True / False "
   ]
  },
  {
   "cell_type": "markdown",
   "id": "904ed1b9-bda0-443f-a65f-6c819bed9576",
   "metadata": {},
   "source": [
    "# complex data types "
   ]
  },
  {
   "cell_type": "code",
   "execution_count": 112,
   "id": "48df60a7-fdaf-4d4a-b5c5-7c9b65075eb7",
   "metadata": {},
   "outputs": [
    {
     "data": {
      "text/plain": [
       "(1+20j)"
      ]
     },
     "execution_count": 112,
     "metadata": {},
     "output_type": "execute_result"
    }
   ],
   "source": [
    "c = 1 + 20j\n",
    "c"
   ]
  },
  {
   "cell_type": "code",
   "execution_count": 113,
   "id": "521f2c21-550e-4085-8eee-298e425adc2c",
   "metadata": {},
   "outputs": [
    {
     "data": {
      "text/plain": [
       "complex"
      ]
     },
     "execution_count": 113,
     "metadata": {},
     "output_type": "execute_result"
    }
   ],
   "source": [
    "type(c)"
   ]
  },
  {
   "cell_type": "code",
   "execution_count": 123,
   "id": "0f9525a5-a1d2-436e-825d-fc82afcf38e1",
   "metadata": {},
   "outputs": [
    {
     "data": {
      "text/plain": [
       "(1+20j)"
      ]
     },
     "execution_count": 123,
     "metadata": {},
     "output_type": "execute_result"
    }
   ],
   "source": [
    "c"
   ]
  },
  {
   "cell_type": "code",
   "execution_count": 125,
   "id": "fd8a8aad-78dc-44ef-a3c8-7b66bdef7519",
   "metadata": {},
   "outputs": [
    {
     "data": {
      "text/plain": [
       "1.0"
      ]
     },
     "execution_count": 125,
     "metadata": {},
     "output_type": "execute_result"
    }
   ],
   "source": [
    "c.real"
   ]
  },
  {
   "cell_type": "code",
   "execution_count": 126,
   "id": "a08203cb-f6de-4690-9806-0685e9fa70c6",
   "metadata": {},
   "outputs": [
    {
     "data": {
      "text/plain": [
       "20.0"
      ]
     },
     "execution_count": 126,
     "metadata": {},
     "output_type": "execute_result"
    }
   ],
   "source": [
    "c.imag"
   ]
  },
  {
   "cell_type": "code",
   "execution_count": 133,
   "id": "2675a71c-0b03-474b-900c-f36950a07acd",
   "metadata": {},
   "outputs": [
    {
     "name": "stdout",
     "output_type": "stream",
     "text": [
      "(40+60j)\n",
      "(-20-20j)\n"
     ]
    }
   ],
   "source": [
    "c1 = 10 + 20j\n",
    "c2 = 30 + 40j\n",
    "\n",
    "print(c1 + c2)\n",
    "print(c1 - c2)"
   ]
  },
  {
   "cell_type": "markdown",
   "id": "8960b58f-d617-410a-b8ed-4e559d03d57b",
   "metadata": {},
   "source": [
    "# 24th Oct"
   ]
  },
  {
   "cell_type": "code",
   "execution_count": 1,
   "id": "b5a3e83e-2a34-45cf-b8de-9bfbc24604b1",
   "metadata": {},
   "outputs": [],
   "source": [
    "s = 'nit'"
   ]
  },
  {
   "cell_type": "code",
   "execution_count": 2,
   "id": "725852b8-1a04-4db5-8556-6f3424dce46b",
   "metadata": {},
   "outputs": [
    {
     "data": {
      "text/plain": [
       "'nit'"
      ]
     },
     "execution_count": 2,
     "metadata": {},
     "output_type": "execute_result"
    }
   ],
   "source": [
    "s"
   ]
  },
  {
   "cell_type": "code",
   "execution_count": 3,
   "id": "20bb6015-7606-48a6-a099-105df4bda8f2",
   "metadata": {},
   "outputs": [
    {
     "data": {
      "text/plain": [
       "str"
      ]
     },
     "execution_count": 3,
     "metadata": {},
     "output_type": "execute_result"
    }
   ],
   "source": [
    "type(s)"
   ]
  },
  {
   "cell_type": "code",
   "execution_count": 4,
   "id": "abf7b35d-109d-4bb0-b64c-bdad0b0fa911",
   "metadata": {},
   "outputs": [
    {
     "data": {
      "text/plain": [
       "'hello python'"
      ]
     },
     "execution_count": 4,
     "metadata": {},
     "output_type": "execute_result"
    }
   ],
   "source": [
    "s1 = \"hello python\"\n",
    "s1"
   ]
  },
  {
   "cell_type": "code",
   "execution_count": 9,
   "id": "d5a2dcc3-a0bc-4b14-a5bb-006da376ceb2",
   "metadata": {},
   "outputs": [
    {
     "data": {
      "text/plain": [
       "' nit\\n        hello python '"
      ]
     },
     "execution_count": 9,
     "metadata": {},
     "output_type": "execute_result"
    }
   ],
   "source": [
    "s2 = ''' nit\n",
    "        hello python '''\n",
    "s2"
   ]
  },
  {
   "cell_type": "code",
   "execution_count": 10,
   "id": "8d22768e-d6d6-4291-83bd-e01ce606d7e2",
   "metadata": {},
   "outputs": [
    {
     "data": {
      "text/plain": [
       "'hello python'"
      ]
     },
     "execution_count": 10,
     "metadata": {},
     "output_type": "execute_result"
    }
   ],
   "source": [
    "s1"
   ]
  },
  {
   "cell_type": "code",
   "execution_count": 11,
   "id": "9ce3e6ac-9265-432c-bb56-d6c54a812cbb",
   "metadata": {},
   "outputs": [
    {
     "data": {
      "text/plain": [
       "'h'"
      ]
     },
     "execution_count": 11,
     "metadata": {},
     "output_type": "execute_result"
    }
   ],
   "source": [
    "s1[0]"
   ]
  },
  {
   "cell_type": "code",
   "execution_count": 12,
   "id": "efa67e51-4abb-4655-805d-f242e7802a0f",
   "metadata": {},
   "outputs": [
    {
     "data": {
      "text/plain": [
       "'t'"
      ]
     },
     "execution_count": 12,
     "metadata": {},
     "output_type": "execute_result"
    }
   ],
   "source": [
    "s1[-4]"
   ]
  },
  {
   "cell_type": "code",
   "execution_count": 13,
   "id": "25b33481-6b9d-4113-8f62-67a1ec91fd24",
   "metadata": {},
   "outputs": [
    {
     "data": {
      "text/plain": [
       "'o'"
      ]
     },
     "execution_count": 13,
     "metadata": {},
     "output_type": "execute_result"
    }
   ],
   "source": [
    "s1[4]"
   ]
  },
  {
   "cell_type": "code",
   "execution_count": 14,
   "id": "6bd55cfe-f75f-45f5-9b7d-ce9d4438f557",
   "metadata": {},
   "outputs": [
    {
     "data": {
      "text/plain": [
       "' '"
      ]
     },
     "execution_count": 14,
     "metadata": {},
     "output_type": "execute_result"
    }
   ],
   "source": [
    "s1[5]"
   ]
  },
  {
   "cell_type": "code",
   "execution_count": 15,
   "id": "b68a1414-a6e7-4ddb-9d01-98346439a094",
   "metadata": {},
   "outputs": [
    {
     "data": {
      "text/plain": [
       "'hello python'"
      ]
     },
     "execution_count": 15,
     "metadata": {},
     "output_type": "execute_result"
    }
   ],
   "source": [
    "s1"
   ]
  },
  {
   "cell_type": "code",
   "execution_count": 16,
   "id": "4fa3ed93-76ce-45f5-bb81-ffd43ac8fad6",
   "metadata": {},
   "outputs": [
    {
     "data": {
      "text/plain": [
       "' '"
      ]
     },
     "execution_count": 16,
     "metadata": {},
     "output_type": "execute_result"
    }
   ],
   "source": [
    "s1[-7]"
   ]
  },
  {
   "cell_type": "code",
   "execution_count": 17,
   "id": "8e238957-bc9d-4294-9b2c-6753e654893f",
   "metadata": {},
   "outputs": [
    {
     "data": {
      "text/plain": [
       "'nit'"
      ]
     },
     "execution_count": 17,
     "metadata": {},
     "output_type": "execute_result"
    }
   ],
   "source": [
    "s"
   ]
  },
  {
   "cell_type": "code",
   "execution_count": 18,
   "id": "f837cefd-b6a9-4700-a4f3-ebe05d3551c8",
   "metadata": {},
   "outputs": [
    {
     "name": "stdout",
     "output_type": "stream",
     "text": [
      "n\n",
      "i\n",
      "t\n"
     ]
    }
   ],
   "source": [
    "print(s[0])\n",
    "print(s[1])\n",
    "print(s[2])"
   ]
  },
  {
   "cell_type": "code",
   "execution_count": 19,
   "id": "e891bcc3-6bf2-4ab6-abbc-af49fdb7869c",
   "metadata": {},
   "outputs": [
    {
     "data": {
      "text/plain": [
       "'hello python'"
      ]
     },
     "execution_count": 19,
     "metadata": {},
     "output_type": "execute_result"
    }
   ],
   "source": [
    "s1"
   ]
  },
  {
   "cell_type": "code",
   "execution_count": 20,
   "id": "0d0ca4be-ce30-4677-acdc-3d7cd846c7f6",
   "metadata": {},
   "outputs": [
    {
     "data": {
      "text/plain": [
       "'hello python'"
      ]
     },
     "execution_count": 20,
     "metadata": {},
     "output_type": "execute_result"
    }
   ],
   "source": [
    "s1[:]"
   ]
  },
  {
   "cell_type": "code",
   "execution_count": 21,
   "id": "72e36ade-f481-4360-8063-cdf146c08e4f",
   "metadata": {},
   "outputs": [
    {
     "data": {
      "text/plain": [
       "'llo p'"
      ]
     },
     "execution_count": 21,
     "metadata": {},
     "output_type": "execute_result"
    }
   ],
   "source": [
    "s1[2:7]"
   ]
  },
  {
   "cell_type": "code",
   "execution_count": 22,
   "id": "1d31cece-c4f2-4ed8-a021-2d147542b519",
   "metadata": {},
   "outputs": [
    {
     "data": {
      "text/plain": [
       "' nit\\n        hello python '"
      ]
     },
     "execution_count": 22,
     "metadata": {},
     "output_type": "execute_result"
    }
   ],
   "source": [
    "s2"
   ]
  },
  {
   "cell_type": "code",
   "execution_count": 24,
   "id": "85c8116e-cb33-418d-92d1-344279891020",
   "metadata": {},
   "outputs": [
    {
     "data": {
      "text/plain": [
       "'dataanalyst'"
      ]
     },
     "execution_count": 24,
     "metadata": {},
     "output_type": "execute_result"
    }
   ],
   "source": [
    "s3 = 'dataanalyst'\n",
    "s3"
   ]
  },
  {
   "cell_type": "code",
   "execution_count": 25,
   "id": "442265e2-6bfd-477e-a7de-585ba854d561",
   "metadata": {},
   "outputs": [
    {
     "data": {
      "text/plain": [
       "'dataanalys'"
      ]
     },
     "execution_count": 25,
     "metadata": {},
     "output_type": "execute_result"
    }
   ],
   "source": [
    "s3[0:10]"
   ]
  },
  {
   "cell_type": "code",
   "execution_count": 26,
   "id": "eabd70b7-825d-45e7-9748-0f88990ccb71",
   "metadata": {},
   "outputs": [
    {
     "data": {
      "text/plain": [
       "'dataanalyst'"
      ]
     },
     "execution_count": 26,
     "metadata": {},
     "output_type": "execute_result"
    }
   ],
   "source": [
    "s3[0:11]"
   ]
  },
  {
   "cell_type": "code",
   "execution_count": 27,
   "id": "08efffa7-5279-40eb-8e9c-7ee025a2e729",
   "metadata": {},
   "outputs": [
    {
     "data": {
      "text/plain": [
       "'dataanalyst'"
      ]
     },
     "execution_count": 27,
     "metadata": {},
     "output_type": "execute_result"
    }
   ],
   "source": [
    "s3"
   ]
  },
  {
   "cell_type": "code",
   "execution_count": 31,
   "id": "2afb8cf7-e10b-4e82-95a0-475d51eae40f",
   "metadata": {},
   "outputs": [
    {
     "ename": "IndexError",
     "evalue": "string index out of range",
     "output_type": "error",
     "traceback": [
      "\u001b[1;31m---------------------------------------------------------------------------\u001b[0m",
      "\u001b[1;31mIndexError\u001b[0m                                Traceback (most recent call last)",
      "Cell \u001b[1;32mIn[31], line 1\u001b[0m\n\u001b[1;32m----> 1\u001b[0m s3[\u001b[38;5;241m11\u001b[39m]\n",
      "\u001b[1;31mIndexError\u001b[0m: string index out of range"
     ]
    }
   ],
   "source": [
    "s3[11]"
   ]
  },
  {
   "cell_type": "code",
   "execution_count": 32,
   "id": "42edecc9-e2ac-4789-bc27-6be40d9d168d",
   "metadata": {},
   "outputs": [
    {
     "data": {
      "text/plain": [
       "'dataanalyst'"
      ]
     },
     "execution_count": 32,
     "metadata": {},
     "output_type": "execute_result"
    }
   ],
   "source": [
    "s3"
   ]
  },
  {
   "cell_type": "code",
   "execution_count": 33,
   "id": "1436d6dc-5409-4294-a280-5cfa961970ec",
   "metadata": {},
   "outputs": [
    {
     "data": {
      "text/plain": [
       "'st'"
      ]
     },
     "execution_count": 33,
     "metadata": {},
     "output_type": "execute_result"
    }
   ],
   "source": [
    "s3[9:12]"
   ]
  },
  {
   "cell_type": "code",
   "execution_count": 34,
   "id": "b16daa90-fef0-46e5-b39f-dd235eda7960",
   "metadata": {},
   "outputs": [
    {
     "data": {
      "text/plain": [
       "'dataanalyst'"
      ]
     },
     "execution_count": 34,
     "metadata": {},
     "output_type": "execute_result"
    }
   ],
   "source": [
    "s3"
   ]
  },
  {
   "cell_type": "code",
   "execution_count": 35,
   "id": "5d2f66db-c994-4e0e-a4a9-17b36ab62648",
   "metadata": {},
   "outputs": [
    {
     "data": {
      "text/plain": [
       "'dtaayt'"
      ]
     },
     "execution_count": 35,
     "metadata": {},
     "output_type": "execute_result"
    }
   ],
   "source": [
    "s3[0:11:2]"
   ]
  },
  {
   "cell_type": "code",
   "execution_count": 36,
   "id": "778e0ed1-e355-4811-a20c-0c975092d42d",
   "metadata": {},
   "outputs": [
    {
     "data": {
      "text/plain": [
       "'dataanalyst'"
      ]
     },
     "execution_count": 36,
     "metadata": {},
     "output_type": "execute_result"
    }
   ],
   "source": [
    "s3"
   ]
  },
  {
   "cell_type": "code",
   "execution_count": 37,
   "id": "d27ae1b4-09fb-4791-8814-70535981d3e3",
   "metadata": {},
   "outputs": [
    {
     "data": {
      "text/plain": [
       "'daas'"
      ]
     },
     "execution_count": 37,
     "metadata": {},
     "output_type": "execute_result"
    }
   ],
   "source": [
    "s3[0:11:3]"
   ]
  },
  {
   "cell_type": "code",
   "execution_count": 38,
   "id": "b5dfbbbf-c21c-4364-bd2d-41f5667bb68f",
   "metadata": {},
   "outputs": [
    {
     "data": {
      "text/plain": [
       "'dataanalyst'"
      ]
     },
     "execution_count": 38,
     "metadata": {},
     "output_type": "execute_result"
    }
   ],
   "source": [
    "s3"
   ]
  },
  {
   "cell_type": "code",
   "execution_count": 39,
   "id": "58513c3d-1ecd-40f7-b15f-a8fb0ff2e8cf",
   "metadata": {},
   "outputs": [
    {
     "data": {
      "text/plain": [
       "'taanaly'"
      ]
     },
     "execution_count": 39,
     "metadata": {},
     "output_type": "execute_result"
    }
   ],
   "source": [
    "s3[2:-2]"
   ]
  },
  {
   "cell_type": "code",
   "execution_count": 40,
   "id": "4dfee986-9b99-40a7-9c34-1b3fe99fa935",
   "metadata": {},
   "outputs": [
    {
     "data": {
      "text/plain": [
       "'dataanalyst'"
      ]
     },
     "execution_count": 40,
     "metadata": {},
     "output_type": "execute_result"
    }
   ],
   "source": [
    "s3"
   ]
  },
  {
   "cell_type": "code",
   "execution_count": 42,
   "id": "c5059999-9b43-4d3f-9ad7-391b35cff23b",
   "metadata": {},
   "outputs": [
    {
     "name": "stdout",
     "output_type": "stream",
     "text": [
      "nit\n",
      "hello python\n",
      "dataanalyst\n"
     ]
    }
   ],
   "source": [
    "print(s)\n",
    "print(s1)\n",
    "#print(s2)\n",
    "print(s3)"
   ]
  },
  {
   "cell_type": "code",
   "execution_count": 43,
   "id": "c43448bb-2c3d-47ab-ab88-af21433c251e",
   "metadata": {},
   "outputs": [
    {
     "data": {
      "text/plain": [
       "'dataanalyst'"
      ]
     },
     "execution_count": 43,
     "metadata": {},
     "output_type": "execute_result"
    }
   ],
   "source": [
    "s3"
   ]
  },
  {
   "cell_type": "code",
   "execution_count": 45,
   "id": "19aa1381-e628-4cc3-9b09-eb993f2269e4",
   "metadata": {},
   "outputs": [
    {
     "data": {
      "text/plain": [
       "['False',\n",
       " 'None',\n",
       " 'True',\n",
       " 'and',\n",
       " 'as',\n",
       " 'assert',\n",
       " 'async',\n",
       " 'await',\n",
       " 'break',\n",
       " 'class',\n",
       " 'continue',\n",
       " 'def',\n",
       " 'del',\n",
       " 'elif',\n",
       " 'else',\n",
       " 'except',\n",
       " 'finally',\n",
       " 'for',\n",
       " 'from',\n",
       " 'global',\n",
       " 'if',\n",
       " 'import',\n",
       " 'in',\n",
       " 'is',\n",
       " 'lambda',\n",
       " 'nonlocal',\n",
       " 'not',\n",
       " 'or',\n",
       " 'pass',\n",
       " 'raise',\n",
       " 'return',\n",
       " 'try',\n",
       " 'while',\n",
       " 'with',\n",
       " 'yield']"
      ]
     },
     "execution_count": 45,
     "metadata": {},
     "output_type": "execute_result"
    }
   ],
   "source": [
    "import keyword\n",
    "keyword.kwlist"
   ]
  },
  {
   "cell_type": "code",
   "execution_count": 44,
   "id": "3840f737-ace3-401e-9f59-9a6ef08c6eec",
   "metadata": {},
   "outputs": [
    {
     "name": "stdout",
     "output_type": "stream",
     "text": [
      "d\n",
      "a\n",
      "t\n",
      "a\n",
      "a\n",
      "n\n",
      "a\n",
      "l\n",
      "y\n",
      "s\n",
      "t\n"
     ]
    }
   ],
   "source": [
    "for i in s3:\n",
    "    print(i)"
   ]
  },
  {
   "cell_type": "markdown",
   "id": "57d5440c-6fdf-415f-ad04-c48f6498d33f",
   "metadata": {},
   "source": [
    "# Python data type completed "
   ]
  },
  {
   "cell_type": "markdown",
   "id": "b750dd14-a3e1-46c8-90ee-cc05f717ad9c",
   "metadata": {},
   "source": [
    "### python type casting | type conversion "
   ]
  },
  {
   "cell_type": "code",
   "execution_count": 48,
   "id": "51b3a920-5f0c-4033-bcbe-b01c3d084195",
   "metadata": {},
   "outputs": [
    {
     "data": {
      "text/plain": [
       "2"
      ]
     },
     "execution_count": 48,
     "metadata": {},
     "output_type": "execute_result"
    }
   ],
   "source": [
    "int(2.3) #float  to int"
   ]
  },
  {
   "cell_type": "code",
   "execution_count": 49,
   "id": "ccf61202-4ab6-4ade-83d8-b11124f96b06",
   "metadata": {},
   "outputs": [
    {
     "data": {
      "text/plain": [
       "1"
      ]
     },
     "execution_count": 49,
     "metadata": {},
     "output_type": "execute_result"
    }
   ],
   "source": [
    "int(True) #bool to int "
   ]
  },
  {
   "cell_type": "code",
   "execution_count": 50,
   "id": "23470f8e-6423-4738-94ae-62a70a122438",
   "metadata": {},
   "outputs": [
    {
     "ename": "TypeError",
     "evalue": "int() argument must be a string, a bytes-like object or a real number, not 'complex'",
     "output_type": "error",
     "traceback": [
      "\u001b[1;31m---------------------------------------------------------------------------\u001b[0m",
      "\u001b[1;31mTypeError\u001b[0m                                 Traceback (most recent call last)",
      "Cell \u001b[1;32mIn[50], line 1\u001b[0m\n\u001b[1;32m----> 1\u001b[0m \u001b[38;5;28mint\u001b[39m(\u001b[38;5;241m1\u001b[39m\u001b[38;5;241m+\u001b[39m\u001b[38;5;241m2\u001b[39mj)\n",
      "\u001b[1;31mTypeError\u001b[0m: int() argument must be a string, a bytes-like object or a real number, not 'complex'"
     ]
    }
   ],
   "source": [
    "int(1+2j) #complex to int not possible "
   ]
  },
  {
   "cell_type": "code",
   "execution_count": 51,
   "id": "cdfc612b-debc-42b8-9a64-599aaf2546ca",
   "metadata": {},
   "outputs": [
    {
     "data": {
      "text/plain": [
       "10"
      ]
     },
     "execution_count": 51,
     "metadata": {},
     "output_type": "execute_result"
    }
   ],
   "source": [
    "int('10')"
   ]
  },
  {
   "cell_type": "code",
   "execution_count": 52,
   "id": "0013f872-0d38-46b9-95ca-fd831690e315",
   "metadata": {},
   "outputs": [
    {
     "ename": "ValueError",
     "evalue": "invalid literal for int() with base 10: 'ten'",
     "output_type": "error",
     "traceback": [
      "\u001b[1;31m---------------------------------------------------------------------------\u001b[0m",
      "\u001b[1;31mValueError\u001b[0m                                Traceback (most recent call last)",
      "Cell \u001b[1;32mIn[52], line 1\u001b[0m\n\u001b[1;32m----> 1\u001b[0m \u001b[38;5;28mint\u001b[39m(\u001b[38;5;124m'\u001b[39m\u001b[38;5;124mten\u001b[39m\u001b[38;5;124m'\u001b[39m)\n",
      "\u001b[1;31mValueError\u001b[0m: invalid literal for int() with base 10: 'ten'"
     ]
    }
   ],
   "source": [
    "int('ten')"
   ]
  },
  {
   "cell_type": "code",
   "execution_count": 53,
   "id": "8e28dfee-c1d0-4dea-a346-8daef2577b39",
   "metadata": {},
   "outputs": [
    {
     "data": {
      "text/plain": [
       "' nit\\n        hello python '"
      ]
     },
     "execution_count": 53,
     "metadata": {},
     "output_type": "execute_result"
    }
   ],
   "source": [
    "s2"
   ]
  },
  {
   "cell_type": "code",
   "execution_count": 54,
   "id": "30e99e1e-83e8-4ec5-bb83-ef594865482f",
   "metadata": {},
   "outputs": [],
   "source": [
    "del s2"
   ]
  },
  {
   "cell_type": "code",
   "execution_count": 55,
   "id": "fb31b491-c748-4492-adb6-081ce6a3aff4",
   "metadata": {},
   "outputs": [
    {
     "ename": "NameError",
     "evalue": "name 's2' is not defined",
     "output_type": "error",
     "traceback": [
      "\u001b[1;31m---------------------------------------------------------------------------\u001b[0m",
      "\u001b[1;31mNameError\u001b[0m                                 Traceback (most recent call last)",
      "Cell \u001b[1;32mIn[55], line 1\u001b[0m\n\u001b[1;32m----> 1\u001b[0m s2\n",
      "\u001b[1;31mNameError\u001b[0m: name 's2' is not defined"
     ]
    }
   ],
   "source": [
    "s2"
   ]
  },
  {
   "cell_type": "code",
   "execution_count": null,
   "id": "0dccc30d-756f-4a7c-aa72-0ecedeacdbd9",
   "metadata": {},
   "outputs": [],
   "source": []
  }
 ],
 "metadata": {
  "kernelspec": {
   "display_name": "Python [conda env:base] *",
   "language": "python",
   "name": "conda-base-py"
  },
  "language_info": {
   "codemirror_mode": {
    "name": "ipython",
    "version": 3
   },
   "file_extension": ".py",
   "mimetype": "text/x-python",
   "name": "python",
   "nbconvert_exporter": "python",
   "pygments_lexer": "ipython3",
   "version": "3.12.7"
  }
 },
 "nbformat": 4,
 "nbformat_minor": 5
}
